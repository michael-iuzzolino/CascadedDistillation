{
 "cells": [
  {
   "cell_type": "code",
   "execution_count": 1,
   "metadata": {},
   "outputs": [],
   "source": [
    "%load_ext autoreload\n",
    "%autoreload 2"
   ]
  },
  {
   "cell_type": "code",
   "execution_count": 2,
   "metadata": {},
   "outputs": [],
   "source": [
    "import glob\n",
    "import os\n",
    "import seaborn as sns\n",
    "from datasets.ImagenetClassLabels import ImagenetLabels\n",
    "import pandas as pd\n",
    "from collections import defaultdict"
   ]
  },
  {
   "cell_type": "code",
   "execution_count": 3,
   "metadata": {},
   "outputs": [
    {
     "name": "stdout",
     "output_type": "stream",
     "text": [
      "File aleady exists at /tmp/imagenet_labels.json.\n",
      "Loading data from /tmp/imagenet_labels.json\n",
      "Fin.\n"
     ]
    }
   ],
   "source": [
    "label_handler = ImagenetLabels()"
   ]
  },
  {
   "cell_type": "code",
   "execution_count": 4,
   "metadata": {},
   "outputs": [],
   "source": [
    "lbls, cls_ids = label_handler.sample_classes(target_labels=[\"terrier\"])"
   ]
  },
  {
   "cell_type": "code",
   "execution_count": 5,
   "metadata": {},
   "outputs": [
    {
     "data": {
      "text/plain": [
       "'toy_terrier'"
      ]
     },
     "execution_count": 5,
     "metadata": {},
     "output_type": "execute_result"
    }
   ],
   "source": [
    "label_handler.lookup_lbl(cls_ids[0])"
   ]
  },
  {
   "cell_type": "code",
   "execution_count": 6,
   "metadata": {},
   "outputs": [],
   "source": [
    "root = \"/hdd/mliuzzolino/datasets/ImageNet2012/ILSVRC/Data/CLS-LOC/train\""
   ]
  },
  {
   "cell_type": "code",
   "execution_count": 7,
   "metadata": {},
   "outputs": [],
   "source": [
    "df_dict = defaultdict(list)\n",
    "for lbl, cls_id in zip(lbls, cls_ids):\n",
    "  cls_root = os.path.join(root, cls_id)\n",
    "  cls_paths = glob.glob(f\"{cls_root}/*\")\n",
    "  for path in cls_paths:\n",
    "    df_dict[\"class_lbl\"].append(lbl)\n",
    "    df_dict[\"class_id\"].append(cls_id)\n",
    "    df_dict[\"path\"].append(path)\n",
    "class_df = pd.DataFrame(df_dict)"
   ]
  },
  {
   "cell_type": "code",
   "execution_count": 8,
   "metadata": {},
   "outputs": [
    {
     "data": {
      "text/html": [
       "<div>\n",
       "<style scoped>\n",
       "    .dataframe tbody tr th:only-of-type {\n",
       "        vertical-align: middle;\n",
       "    }\n",
       "\n",
       "    .dataframe tbody tr th {\n",
       "        vertical-align: top;\n",
       "    }\n",
       "\n",
       "    .dataframe thead th {\n",
       "        text-align: right;\n",
       "    }\n",
       "</style>\n",
       "<table border=\"1\" class=\"dataframe\">\n",
       "  <thead>\n",
       "    <tr style=\"text-align: right;\">\n",
       "      <th></th>\n",
       "      <th>class_lbl</th>\n",
       "      <th>class_id</th>\n",
       "      <th>path</th>\n",
       "    </tr>\n",
       "  </thead>\n",
       "  <tbody>\n",
       "    <tr>\n",
       "      <th>0</th>\n",
       "      <td>toy_terrier</td>\n",
       "      <td>n02087046</td>\n",
       "      <td>/hdd/mliuzzolino/datasets/ImageNet2012/ILSVRC/...</td>\n",
       "    </tr>\n",
       "    <tr>\n",
       "      <th>1</th>\n",
       "      <td>toy_terrier</td>\n",
       "      <td>n02087046</td>\n",
       "      <td>/hdd/mliuzzolino/datasets/ImageNet2012/ILSVRC/...</td>\n",
       "    </tr>\n",
       "    <tr>\n",
       "      <th>2</th>\n",
       "      <td>toy_terrier</td>\n",
       "      <td>n02087046</td>\n",
       "      <td>/hdd/mliuzzolino/datasets/ImageNet2012/ILSVRC/...</td>\n",
       "    </tr>\n",
       "    <tr>\n",
       "      <th>3</th>\n",
       "      <td>toy_terrier</td>\n",
       "      <td>n02087046</td>\n",
       "      <td>/hdd/mliuzzolino/datasets/ImageNet2012/ILSVRC/...</td>\n",
       "    </tr>\n",
       "    <tr>\n",
       "      <th>4</th>\n",
       "      <td>toy_terrier</td>\n",
       "      <td>n02087046</td>\n",
       "      <td>/hdd/mliuzzolino/datasets/ImageNet2012/ILSVRC/...</td>\n",
       "    </tr>\n",
       "  </tbody>\n",
       "</table>\n",
       "</div>"
      ],
      "text/plain": [
       "     class_lbl   class_id                                               path\n",
       "0  toy_terrier  n02087046  /hdd/mliuzzolino/datasets/ImageNet2012/ILSVRC/...\n",
       "1  toy_terrier  n02087046  /hdd/mliuzzolino/datasets/ImageNet2012/ILSVRC/...\n",
       "2  toy_terrier  n02087046  /hdd/mliuzzolino/datasets/ImageNet2012/ILSVRC/...\n",
       "3  toy_terrier  n02087046  /hdd/mliuzzolino/datasets/ImageNet2012/ILSVRC/...\n",
       "4  toy_terrier  n02087046  /hdd/mliuzzolino/datasets/ImageNet2012/ILSVRC/..."
      ]
     },
     "execution_count": 8,
     "metadata": {},
     "output_type": "execute_result"
    }
   ],
   "source": [
    "class_df.head()"
   ]
  },
  {
   "cell_type": "code",
   "execution_count": 9,
   "metadata": {},
   "outputs": [
    {
     "data": {
      "text/plain": [
       "[Text(0, 0.5, ''),\n",
       " Text(0.5, 0, 'Count'),\n",
       " Text(0.5, 1.0, 'ImageNet2012 Terrier Distribution')]"
      ]
     },
     "execution_count": 9,
     "metadata": {},
     "output_type": "execute_result"
    },
    {
     "data": {
      "image/png": "[encoded data removed]",
      "text/plain": [
       "<Figure size 432x288 with 1 Axes>"
      ]
     },
     "metadata": {
      "image/png": {
       "height": 277,
       "width": 510
      },
      "needs_background": "light"
     },
     "output_type": "display_data"
    }
   ],
   "source": [
    "g = sns.countplot(y=\"class_lbl\", data=class_df, palette='cool')\n",
    "g.set(xlabel=\"Count\", ylabel=\"\", title=\"ImageNet2012 Terrier Distribution\")"
   ]
  },
  {
   "cell_type": "markdown",
   "metadata": {},
   "source": [
    "# Class Handler"
   ]
  },
  {
   "cell_type": "code",
   "execution_count": 10,
   "metadata": {},
   "outputs": [],
   "source": [
    "from datasets.dataset_handler import DataHandler"
   ]
  },
  {
   "cell_type": "code",
   "execution_count": 11,
   "metadata": {},
   "outputs": [],
   "source": [
    "class dotdict(dict):\n",
    "    __getattr__ = dict.__getitem__\n",
    "    __setattr__ = dict.__setitem__\n",
    "    __delattr__ = dict.__delitem__"
   ]
  },
  {
   "cell_type": "code",
   "execution_count": 110,
   "metadata": {},
   "outputs": [],
   "source": [
    "args = dotdict({\n",
    "  \"num_workers\": 0,\n",
    "  \"batch_size\": 128,\n",
    "  \"drop_last\": True,\n",
    "})"
   ]
  },
  {
   "cell_type": "code",
   "execution_count": 111,
   "metadata": {},
   "outputs": [],
   "source": [
    "data_dict = dotdict({\n",
    "  \"dataset_name\": \"ImageNet2012\",\n",
    "  \"data_root\": \"/hdd/mliuzzolino/datasets\",\n",
    "  \"val_split\": 0.1,\n",
    "  \"split_idxs_root\": \"/hdd/mliuzzolino/split_idxs\",\n",
    "  \"noise_type\": None,\n",
    "  \"load_previous_splits\": False,\n",
    "  \"imagenet_params\": {\n",
    "    \"target_classes\": [\"terrier\"],\n",
    "    \"max_classes\": 10,\n",
    "  }\n",
    "})"
   ]
  },
  {
   "cell_type": "code",
   "execution_count": 112,
   "metadata": {},
   "outputs": [
    {
     "name": "stdout",
     "output_type": "stream",
     "text": [
      "Setting split idxs root to /hdd/mliuzzolino/split_idxs/ImageNet2012\n",
      "File aleady exists at /tmp/imagenet_labels.json.\n",
      "Loading data from /tmp/imagenet_labels.json\n",
      "Fin.\n",
      "File aleady exists at /tmp/imagenet_labels.json.\n",
      "Loading data from /tmp/imagenet_labels.json\n",
      "Fin.\n",
      "Loading splic locs from /hdd/mliuzzolino/split_idxs/ImageNet2012/0.1-0.1_val_test_split.json...\n",
      "Loading train data...\n",
      "10,530 train examples loaded.\n",
      "Loading validation data...\n",
      "1,170 train examples loaded.\n",
      "Loading test data...\n",
      "1,300 test examples loaded.\n",
      "Complete.\n"
     ]
    }
   ],
   "source": [
    "data_handler = DataHandler(**data_dict)"
   ]
  },
  {
   "cell_type": "code",
   "execution_count": null,
   "metadata": {},
   "outputs": [],
   "source": []
  },
  {
   "cell_type": "code",
   "execution_count": null,
   "metadata": {},
   "outputs": [],
   "source": [
    "# Set indices save/load path\n",
    "  val_percent = int(val_split * 100)\n",
    "  basename = f'{val_percent}-{100-val_percent}_val_split.json'\n",
    "  idx_filepath = os.path.join(split_idxs_root, basename)\n",
    "  print(\"idx_filepath: \", idx_filepath)\n",
    "  # Check load indices\n",
    "  if load_previous_splits and os.path.exists(idx_filepath):\n",
    "    print(f\"Loading previous splits from {idx_filepath}\")\n",
    "    with open(idx_filepath, 'r') as infile:\n",
    "      loaded_idxs = json.load(infile)\n",
    "    dataset_idxs = loaded_idxs[self.dataset_key]\n",
    "    print(\"Complete.\")\n",
    "  # Save idxs\n",
    "  else:\n",
    "    split_idxs_dict = split_dev_set(self.img_paths, val_split)\n",
    "    dataset_idxs = split_idxs_dict[self.dataset_key]\n",
    "\n",
    "    print(f\"Saving split idxs to {idx_filepath}...\")\n",
    "    save_idxs = {\n",
    "        key: [int(ele) for ele in vals]\n",
    "        for key, vals in split_idxs_dict.items()\n",
    "    }\n",
    "    with open(idx_filepath, 'w') as outfile:\n",
    "      json.dump(save_idxs, outfile)\n",
    "    print(\"Complete\")"
   ]
  },
  {
   "cell_type": "code",
   "execution_count": 45,
   "metadata": {},
   "outputs": [
    {
     "data": {
      "text/html": [
       "<div>\n",
       "<style scoped>\n",
       "    .dataframe tbody tr th:only-of-type {\n",
       "        vertical-align: middle;\n",
       "    }\n",
       "\n",
       "    .dataframe tbody tr th {\n",
       "        vertical-align: top;\n",
       "    }\n",
       "\n",
       "    .dataframe thead th {\n",
       "        text-align: right;\n",
       "    }\n",
       "</style>\n",
       "<table border=\"1\" class=\"dataframe\">\n",
       "  <thead>\n",
       "    <tr style=\"text-align: right;\">\n",
       "      <th></th>\n",
       "      <th>class_lbl</th>\n",
       "      <th>class_id</th>\n",
       "      <th>path</th>\n",
       "    </tr>\n",
       "  </thead>\n",
       "  <tbody>\n",
       "    <tr>\n",
       "      <th>203834</th>\n",
       "      <td>Sealyham_terrier</td>\n",
       "      <td>n02095889</td>\n",
       "      <td>/hdd/mliuzzolino/datasets/ImageNet2012/ILSVRC/...</td>\n",
       "    </tr>\n",
       "    <tr>\n",
       "      <th>203835</th>\n",
       "      <td>Sealyham_terrier</td>\n",
       "      <td>n02095889</td>\n",
       "      <td>/hdd/mliuzzolino/datasets/ImageNet2012/ILSVRC/...</td>\n",
       "    </tr>\n",
       "    <tr>\n",
       "      <th>203836</th>\n",
       "      <td>Sealyham_terrier</td>\n",
       "      <td>n02095889</td>\n",
       "      <td>/hdd/mliuzzolino/datasets/ImageNet2012/ILSVRC/...</td>\n",
       "    </tr>\n",
       "    <tr>\n",
       "      <th>203837</th>\n",
       "      <td>Sealyham_terrier</td>\n",
       "      <td>n02095889</td>\n",
       "      <td>/hdd/mliuzzolino/datasets/ImageNet2012/ILSVRC/...</td>\n",
       "    </tr>\n",
       "    <tr>\n",
       "      <th>203838</th>\n",
       "      <td>Sealyham_terrier</td>\n",
       "      <td>n02095889</td>\n",
       "      <td>/hdd/mliuzzolino/datasets/ImageNet2012/ILSVRC/...</td>\n",
       "    </tr>\n",
       "  </tbody>\n",
       "</table>\n",
       "</div>"
      ],
      "text/plain": [
       "               class_lbl   class_id  \\\n",
       "203834  Sealyham_terrier  n02095889   \n",
       "203835  Sealyham_terrier  n02095889   \n",
       "203836  Sealyham_terrier  n02095889   \n",
       "203837  Sealyham_terrier  n02095889   \n",
       "203838  Sealyham_terrier  n02095889   \n",
       "\n",
       "                                                     path  \n",
       "203834  /hdd/mliuzzolino/datasets/ImageNet2012/ILSVRC/...  \n",
       "203835  /hdd/mliuzzolino/datasets/ImageNet2012/ILSVRC/...  \n",
       "203836  /hdd/mliuzzolino/datasets/ImageNet2012/ILSVRC/...  \n",
       "203837  /hdd/mliuzzolino/datasets/ImageNet2012/ILSVRC/...  \n",
       "203838  /hdd/mliuzzolino/datasets/ImageNet2012/ILSVRC/...  "
      ]
     },
     "execution_count": 45,
     "metadata": {},
     "output_type": "execute_result"
    }
   ],
   "source": [
    "path_df.head()"
   ]
  },
  {
   "cell_type": "code",
   "execution_count": 52,
   "metadata": {},
   "outputs": [],
   "source": [
    "from collections import Counter"
   ]
  },
  {
   "cell_type": "code",
   "execution_count": 67,
   "metadata": {},
   "outputs": [],
   "source": []
  },
  {
   "cell_type": "code",
   "execution_count": 68,
   "metadata": {},
   "outputs": [
    {
     "data": {
      "text/html": [
       "<div>\n",
       "<style scoped>\n",
       "    .dataframe tbody tr th:only-of-type {\n",
       "        vertical-align: middle;\n",
       "    }\n",
       "\n",
       "    .dataframe tbody tr th {\n",
       "        vertical-align: top;\n",
       "    }\n",
       "\n",
       "    .dataframe thead th {\n",
       "        text-align: right;\n",
       "    }\n",
       "</style>\n",
       "<table border=\"1\" class=\"dataframe\">\n",
       "  <thead>\n",
       "    <tr style=\"text-align: right;\">\n",
       "      <th></th>\n",
       "      <th>class_lbl</th>\n",
       "      <th>class_id</th>\n",
       "      <th>path</th>\n",
       "    </tr>\n",
       "  </thead>\n",
       "  <tbody>\n",
       "    <tr>\n",
       "      <th>203834</th>\n",
       "      <td>Sealyham_terrier</td>\n",
       "      <td>n02095889</td>\n",
       "      <td>/hdd/mliuzzolino/datasets/ImageNet2012/ILSVRC/...</td>\n",
       "    </tr>\n",
       "    <tr>\n",
       "      <th>203835</th>\n",
       "      <td>Sealyham_terrier</td>\n",
       "      <td>n02095889</td>\n",
       "      <td>/hdd/mliuzzolino/datasets/ImageNet2012/ILSVRC/...</td>\n",
       "    </tr>\n",
       "    <tr>\n",
       "      <th>203836</th>\n",
       "      <td>Sealyham_terrier</td>\n",
       "      <td>n02095889</td>\n",
       "      <td>/hdd/mliuzzolino/datasets/ImageNet2012/ILSVRC/...</td>\n",
       "    </tr>\n",
       "    <tr>\n",
       "      <th>203837</th>\n",
       "      <td>Sealyham_terrier</td>\n",
       "      <td>n02095889</td>\n",
       "      <td>/hdd/mliuzzolino/datasets/ImageNet2012/ILSVRC/...</td>\n",
       "    </tr>\n",
       "    <tr>\n",
       "      <th>203838</th>\n",
       "      <td>Sealyham_terrier</td>\n",
       "      <td>n02095889</td>\n",
       "      <td>/hdd/mliuzzolino/datasets/ImageNet2012/ILSVRC/...</td>\n",
       "    </tr>\n",
       "  </tbody>\n",
       "</table>\n",
       "</div>"
      ],
      "text/plain": [
       "               class_lbl   class_id  \\\n",
       "203834  Sealyham_terrier  n02095889   \n",
       "203835  Sealyham_terrier  n02095889   \n",
       "203836  Sealyham_terrier  n02095889   \n",
       "203837  Sealyham_terrier  n02095889   \n",
       "203838  Sealyham_terrier  n02095889   \n",
       "\n",
       "                                                     path  \n",
       "203834  /hdd/mliuzzolino/datasets/ImageNet2012/ILSVRC/...  \n",
       "203835  /hdd/mliuzzolino/datasets/ImageNet2012/ILSVRC/...  \n",
       "203836  /hdd/mliuzzolino/datasets/ImageNet2012/ILSVRC/...  \n",
       "203837  /hdd/mliuzzolino/datasets/ImageNet2012/ILSVRC/...  \n",
       "203838  /hdd/mliuzzolino/datasets/ImageNet2012/ILSVRC/...  "
      ]
     },
     "execution_count": 68,
     "metadata": {},
     "output_type": "execute_result"
    }
   ],
   "source": [
    "path_df.head()"
   ]
  },
  {
   "cell_type": "code",
   "execution_count": 69,
   "metadata": {},
   "outputs": [],
   "source": []
  },
  {
   "cell_type": "code",
   "execution_count": 71,
   "metadata": {},
   "outputs": [
    {
     "data": {
      "text/plain": [
       "(10,)"
      ]
     },
     "execution_count": 71,
     "metadata": {},
     "output_type": "execute_result"
    }
   ],
   "source": [
    "new_df.class_lbl.unique().shape"
   ]
  },
  {
   "cell_type": "code",
   "execution_count": 61,
   "metadata": {},
   "outputs": [
    {
     "data": {
      "text/html": [
       "<div>\n",
       "<style scoped>\n",
       "    .dataframe tbody tr th:only-of-type {\n",
       "        vertical-align: middle;\n",
       "    }\n",
       "\n",
       "    .dataframe tbody tr th {\n",
       "        vertical-align: top;\n",
       "    }\n",
       "\n",
       "    .dataframe thead th {\n",
       "        text-align: right;\n",
       "    }\n",
       "</style>\n",
       "<table border=\"1\" class=\"dataframe\">\n",
       "  <thead>\n",
       "    <tr style=\"text-align: right;\">\n",
       "      <th></th>\n",
       "      <th>class_lbl</th>\n",
       "      <th>count</th>\n",
       "    </tr>\n",
       "  </thead>\n",
       "  <tbody>\n",
       "    <tr>\n",
       "      <th>0</th>\n",
       "      <td>Sealyham_terrier</td>\n",
       "      <td>936</td>\n",
       "    </tr>\n",
       "    <tr>\n",
       "      <th>1</th>\n",
       "      <td>American_Staffordshire_terrier</td>\n",
       "      <td>1300</td>\n",
       "    </tr>\n",
       "    <tr>\n",
       "      <th>2</th>\n",
       "      <td>Norfolk_terrier</td>\n",
       "      <td>1300</td>\n",
       "    </tr>\n",
       "    <tr>\n",
       "      <th>3</th>\n",
       "      <td>Border_terrier</td>\n",
       "      <td>1300</td>\n",
       "    </tr>\n",
       "    <tr>\n",
       "      <th>4</th>\n",
       "      <td>Norwich_terrier</td>\n",
       "      <td>1300</td>\n",
       "    </tr>\n",
       "    <tr>\n",
       "      <th>5</th>\n",
       "      <td>silky_terrier</td>\n",
       "      <td>1300</td>\n",
       "    </tr>\n",
       "    <tr>\n",
       "      <th>6</th>\n",
       "      <td>West_Highland_white_terrier</td>\n",
       "      <td>1300</td>\n",
       "    </tr>\n",
       "    <tr>\n",
       "      <th>7</th>\n",
       "      <td>Tibetan_terrier</td>\n",
       "      <td>1300</td>\n",
       "    </tr>\n",
       "    <tr>\n",
       "      <th>8</th>\n",
       "      <td>Lakeland_terrier</td>\n",
       "      <td>1300</td>\n",
       "    </tr>\n",
       "    <tr>\n",
       "      <th>9</th>\n",
       "      <td>Yorkshire_terrier</td>\n",
       "      <td>1300</td>\n",
       "    </tr>\n",
       "    <tr>\n",
       "      <th>10</th>\n",
       "      <td>Kerry_blue_terrier</td>\n",
       "      <td>1273</td>\n",
       "    </tr>\n",
       "    <tr>\n",
       "      <th>11</th>\n",
       "      <td>Staffordshire_bullterrier</td>\n",
       "      <td>1300</td>\n",
       "    </tr>\n",
       "    <tr>\n",
       "      <th>12</th>\n",
       "      <td>soft-coated_wheaten_terrier</td>\n",
       "      <td>1300</td>\n",
       "    </tr>\n",
       "    <tr>\n",
       "      <th>13</th>\n",
       "      <td>wire-haired_fox_terrier</td>\n",
       "      <td>977</td>\n",
       "    </tr>\n",
       "    <tr>\n",
       "      <th>14</th>\n",
       "      <td>Irish_terrier</td>\n",
       "      <td>1300</td>\n",
       "    </tr>\n",
       "    <tr>\n",
       "      <th>15</th>\n",
       "      <td>Scotch_terrier</td>\n",
       "      <td>1300</td>\n",
       "    </tr>\n",
       "    <tr>\n",
       "      <th>16</th>\n",
       "      <td>Bedlington_terrier</td>\n",
       "      <td>1258</td>\n",
       "    </tr>\n",
       "    <tr>\n",
       "      <th>17</th>\n",
       "      <td>toy_terrier</td>\n",
       "      <td>860</td>\n",
       "    </tr>\n",
       "    <tr>\n",
       "      <th>18</th>\n",
       "      <td>Australian_terrier</td>\n",
       "      <td>1300</td>\n",
       "    </tr>\n",
       "  </tbody>\n",
       "</table>\n",
       "</div>"
      ],
      "text/plain": [
       "                         class_lbl  count\n",
       "0                 Sealyham_terrier    936\n",
       "1   American_Staffordshire_terrier   1300\n",
       "2                  Norfolk_terrier   1300\n",
       "3                   Border_terrier   1300\n",
       "4                  Norwich_terrier   1300\n",
       "5                    silky_terrier   1300\n",
       "6      West_Highland_white_terrier   1300\n",
       "7                  Tibetan_terrier   1300\n",
       "8                 Lakeland_terrier   1300\n",
       "9                Yorkshire_terrier   1300\n",
       "10              Kerry_blue_terrier   1273\n",
       "11       Staffordshire_bullterrier   1300\n",
       "12     soft-coated_wheaten_terrier   1300\n",
       "13         wire-haired_fox_terrier    977\n",
       "14                   Irish_terrier   1300\n",
       "15                  Scotch_terrier   1300\n",
       "16              Bedlington_terrier   1258\n",
       "17                     toy_terrier    860\n",
       "18              Australian_terrier   1300"
      ]
     },
     "execution_count": 61,
     "metadata": {},
     "output_type": "execute_result"
    }
   ],
   "source": []
  },
  {
   "cell_type": "code",
   "execution_count": 17,
   "metadata": {},
   "outputs": [
    {
     "ename": "ValueError",
     "evalue": "num_samples should be a positive integer value, but got num_samples=0",
     "output_type": "error",
     "traceback": [
      "\u001b[0;31m---------------------------------------------------------------------------\u001b[0m",
      "\u001b[0;31mValueError\u001b[0m                                Traceback (most recent call last)",
      "\u001b[0;32m<ipython-input-17-512e44a622eb>\u001b[0m in \u001b[0;36m<module>\u001b[0;34m\u001b[0m\n\u001b[1;32m      1\u001b[0m \u001b[0;31m# Set Loaders\u001b[0m\u001b[0;34m\u001b[0m\u001b[0;34m\u001b[0m\u001b[0;34m\u001b[0m\u001b[0m\n\u001b[1;32m      2\u001b[0m loaders = {\n\u001b[0;32m----> 3\u001b[0;31m     \u001b[0;34m\"train\"\u001b[0m\u001b[0;34m:\u001b[0m \u001b[0mdata_handler\u001b[0m\u001b[0;34m.\u001b[0m\u001b[0mbuild_loader\u001b[0m\u001b[0;34m(\u001b[0m\u001b[0;34m\"train\"\u001b[0m\u001b[0;34m,\u001b[0m \u001b[0margs\u001b[0m\u001b[0;34m)\u001b[0m\u001b[0;34m,\u001b[0m\u001b[0;34m\u001b[0m\u001b[0;34m\u001b[0m\u001b[0m\n\u001b[0m\u001b[1;32m      4\u001b[0m     \u001b[0;34m\"val\"\u001b[0m\u001b[0;34m:\u001b[0m \u001b[0mdata_handler\u001b[0m\u001b[0;34m.\u001b[0m\u001b[0mbuild_loader\u001b[0m\u001b[0;34m(\u001b[0m\u001b[0;34m\"val\"\u001b[0m\u001b[0;34m,\u001b[0m \u001b[0margs\u001b[0m\u001b[0;34m)\u001b[0m\u001b[0;34m,\u001b[0m\u001b[0;34m\u001b[0m\u001b[0;34m\u001b[0m\u001b[0m\n\u001b[1;32m      5\u001b[0m     \u001b[0;34m\"test\"\u001b[0m\u001b[0;34m:\u001b[0m \u001b[0mdata_handler\u001b[0m\u001b[0;34m.\u001b[0m\u001b[0mbuild_loader\u001b[0m\u001b[0;34m(\u001b[0m\u001b[0;34m\"test\"\u001b[0m\u001b[0;34m,\u001b[0m \u001b[0margs\u001b[0m\u001b[0;34m)\u001b[0m\u001b[0;34m,\u001b[0m\u001b[0;34m\u001b[0m\u001b[0;34m\u001b[0m\u001b[0m\n",
      "\u001b[0;32m~/CascadedNets/datasets/dataset_handler.py\u001b[0m in \u001b[0;36mbuild_loader\u001b[0;34m(self, dataset_key, flags, dont_shuffle_train)\u001b[0m\n\u001b[1;32m    145\u001b[0m         \u001b[0mnum_workers\u001b[0m\u001b[0;34m=\u001b[0m\u001b[0mflags\u001b[0m\u001b[0;34m.\u001b[0m\u001b[0mnum_workers\u001b[0m\u001b[0;34m,\u001b[0m\u001b[0;34m\u001b[0m\u001b[0;34m\u001b[0m\u001b[0m\n\u001b[1;32m    146\u001b[0m         \u001b[0mdrop_last\u001b[0m\u001b[0;34m=\u001b[0m\u001b[0mflags\u001b[0m\u001b[0;34m.\u001b[0m\u001b[0mdrop_last\u001b[0m\u001b[0;34m,\u001b[0m\u001b[0;34m\u001b[0m\u001b[0;34m\u001b[0m\u001b[0m\n\u001b[0;32m--> 147\u001b[0;31m         pin_memory=True)\n\u001b[0m\u001b[1;32m    148\u001b[0m \u001b[0;34m\u001b[0m\u001b[0m\n\u001b[1;32m    149\u001b[0m     \u001b[0;32mreturn\u001b[0m \u001b[0mloader\u001b[0m\u001b[0;34m\u001b[0m\u001b[0;34m\u001b[0m\u001b[0m\n",
      "\u001b[0;32m~/anaconda3/envs/curl/lib/python3.6/site-packages/torch/utils/data/dataloader.py\u001b[0m in \u001b[0;36m__init__\u001b[0;34m(self, dataset, batch_size, shuffle, sampler, batch_sampler, num_workers, collate_fn, pin_memory, drop_last, timeout, worker_init_fn, multiprocessing_context)\u001b[0m\n\u001b[1;32m    211\u001b[0m             \u001b[0;32melse\u001b[0m\u001b[0;34m:\u001b[0m  \u001b[0;31m# map-style\u001b[0m\u001b[0;34m\u001b[0m\u001b[0;34m\u001b[0m\u001b[0m\n\u001b[1;32m    212\u001b[0m                 \u001b[0;32mif\u001b[0m \u001b[0mshuffle\u001b[0m\u001b[0;34m:\u001b[0m\u001b[0;34m\u001b[0m\u001b[0;34m\u001b[0m\u001b[0m\n\u001b[0;32m--> 213\u001b[0;31m                     \u001b[0msampler\u001b[0m \u001b[0;34m=\u001b[0m \u001b[0mRandomSampler\u001b[0m\u001b[0;34m(\u001b[0m\u001b[0mdataset\u001b[0m\u001b[0;34m)\u001b[0m\u001b[0;34m\u001b[0m\u001b[0;34m\u001b[0m\u001b[0m\n\u001b[0m\u001b[1;32m    214\u001b[0m                 \u001b[0;32melse\u001b[0m\u001b[0;34m:\u001b[0m\u001b[0;34m\u001b[0m\u001b[0;34m\u001b[0m\u001b[0m\n\u001b[1;32m    215\u001b[0m                     \u001b[0msampler\u001b[0m \u001b[0;34m=\u001b[0m \u001b[0mSequentialSampler\u001b[0m\u001b[0;34m(\u001b[0m\u001b[0mdataset\u001b[0m\u001b[0;34m)\u001b[0m\u001b[0;34m\u001b[0m\u001b[0;34m\u001b[0m\u001b[0m\n",
      "\u001b[0;32m~/anaconda3/envs/curl/lib/python3.6/site-packages/torch/utils/data/sampler.py\u001b[0m in \u001b[0;36m__init__\u001b[0;34m(self, data_source, replacement, num_samples)\u001b[0m\n\u001b[1;32m     92\u001b[0m         \u001b[0;32mif\u001b[0m \u001b[0;32mnot\u001b[0m \u001b[0misinstance\u001b[0m\u001b[0;34m(\u001b[0m\u001b[0mself\u001b[0m\u001b[0;34m.\u001b[0m\u001b[0mnum_samples\u001b[0m\u001b[0;34m,\u001b[0m \u001b[0mint\u001b[0m\u001b[0;34m)\u001b[0m \u001b[0;32mor\u001b[0m \u001b[0mself\u001b[0m\u001b[0;34m.\u001b[0m\u001b[0mnum_samples\u001b[0m \u001b[0;34m<=\u001b[0m \u001b[0;36m0\u001b[0m\u001b[0;34m:\u001b[0m\u001b[0;34m\u001b[0m\u001b[0;34m\u001b[0m\u001b[0m\n\u001b[1;32m     93\u001b[0m             raise ValueError(\"num_samples should be a positive integer \"\n\u001b[0;32m---> 94\u001b[0;31m                              \"value, but got num_samples={}\".format(self.num_samples))\n\u001b[0m\u001b[1;32m     95\u001b[0m \u001b[0;34m\u001b[0m\u001b[0m\n\u001b[1;32m     96\u001b[0m     \u001b[0;34m@\u001b[0m\u001b[0mproperty\u001b[0m\u001b[0;34m\u001b[0m\u001b[0;34m\u001b[0m\u001b[0m\n",
      "\u001b[0;31mValueError\u001b[0m: num_samples should be a positive integer value, but got num_samples=0"
     ]
    }
   ],
   "source": [
    "# Set Loaders\n",
    "loaders = {\n",
    "    \"train\": data_handler.build_loader(\"train\", args),\n",
    "    \"val\": data_handler.build_loader(\"val\", args),\n",
    "    \"test\": data_handler.build_loader(\"test\", args),\n",
    "}"
   ]
  },
  {
   "cell_type": "code",
   "execution_count": 7,
   "metadata": {},
   "outputs": [],
   "source": []
  },
  {
   "cell_type": "code",
   "execution_count": 16,
   "metadata": {},
   "outputs": [],
   "source": [
    "root = \"/hdd/mliuzzolino/datasets/ImageNet2012/ILSVRC/Data/CLS-LOC/train\"\n",
    "img_paths = glob.glob(f\"{root}/*/*\")"
   ]
  },
  {
   "cell_type": "code",
   "execution_count": null,
   "metadata": {},
   "outputs": [],
   "source": [
    "img_paths[:5]"
   ]
  },
  {
   "cell_type": "code",
   "execution_count": null,
   "metadata": {},
   "outputs": [],
   "source": [
    "\n",
    "glob.glob(f\"{root}/*\")"
   ]
  },
  {
   "cell_type": "code",
   "execution_count": null,
   "metadata": {},
   "outputs": [],
   "source": []
  },
  {
   "cell_type": "code",
   "execution_count": null,
   "metadata": {},
   "outputs": [],
   "source": []
  },
  {
   "cell_type": "code",
   "execution_count": 33,
   "metadata": {},
   "outputs": [],
   "source": []
  },
  {
   "cell_type": "code",
   "execution_count": null,
   "metadata": {},
   "outputs": [],
   "source": []
  }
 ],
 "metadata": {
  "kernelspec": {
   "display_name": "Python 3",
   "language": "python",
   "name": "python3"
  },
  "language_info": {
   "codemirror_mode": {
    "name": "ipython",
    "version": 3
   },
   "file_extension": ".py",
   "mimetype": "text/x-python",
   "name": "python",
   "nbconvert_exporter": "python",
   "pygments_lexer": "ipython3",
   "version": "3.6.10"
  }
 },
 "nbformat": 4,
 "nbformat_minor": 5
}
